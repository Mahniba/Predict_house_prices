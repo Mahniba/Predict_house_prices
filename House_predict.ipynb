{
 "cells": [
  {
   "cell_type": "code",
   "execution_count": 4,
   "id": "2d1424a5-55b0-4b4d-81dc-fcc198753006",
   "metadata": {},
   "outputs": [
    {
     "name": "stdout",
     "output_type": "stream",
     "text": [
      "Channels:\n",
      " - defaults\n",
      "Platform: win-64\n",
      "Collecting package metadata (repodata.json): ...working... done\n",
      "Solving environment: ...working... done\n",
      "\n",
      "## Package Plan ##\n",
      "\n",
      "  environment location: C:\\Users\\nibam\\Anaconda\\envs\\houseprice\n",
      "\n",
      "  added / updated specs:\n",
      "    - python=3.10\n",
      "\n",
      "\n",
      "The following NEW packages will be INSTALLED:\n",
      "\n",
      "  bzip2              pkgs/main/win-64::bzip2-1.0.8-h2bbff1b_6 \n",
      "  ca-certificates    pkgs/main/win-64::ca-certificates-2025.2.25-haa95532_0 \n",
      "  expat              pkgs/main/win-64::expat-2.7.1-h8ddb27b_0 \n",
      "  libffi             pkgs/main/win-64::libffi-3.4.4-hd77b12b_1 \n",
      "  openssl            pkgs/main/win-64::openssl-3.0.16-h3f729d1_0 \n",
      "  pip                pkgs/main/noarch::pip-25.1-pyhc872135_2 \n",
      "  python             pkgs/main/win-64::python-3.10.18-h981015d_0 \n",
      "  setuptools         pkgs/main/win-64::setuptools-78.1.1-py310haa95532_0 \n",
      "  sqlite             pkgs/main/win-64::sqlite-3.45.3-h2bbff1b_0 \n",
      "  tk                 pkgs/main/win-64::tk-8.6.14-h5e9d12e_1 \n",
      "  tzdata             pkgs/main/noarch::tzdata-2025b-h04d1e81_0 \n",
      "  ucrt               pkgs/main/win-64::ucrt-10.0.22621.0-haa95532_0 \n",
      "  vc                 pkgs/main/win-64::vc-14.3-h2df5915_10 \n",
      "  vc14_runtime       pkgs/main/win-64::vc14_runtime-14.44.35208-h4927774_10 \n",
      "  vs2015_runtime     pkgs/main/win-64::vs2015_runtime-14.44.35208-ha6b5a95_10 \n",
      "  wheel              pkgs/main/win-64::wheel-0.45.1-py310haa95532_0 \n",
      "  xz                 pkgs/main/win-64::xz-5.6.4-h4754444_1 \n",
      "  zlib               pkgs/main/win-64::zlib-1.2.13-h8cc25b3_1 \n",
      "\n",
      "\n",
      "\n",
      "Downloading and Extracting Packages: ...working... done\n",
      "Preparing transaction: done\n",
      "Verifying transaction: done\n",
      "Executing transaction: done\n",
      "#\n",
      "# To activate this environment, use\n",
      "#\n",
      "#     $ conda activate houseprice\n",
      "#\n",
      "# To deactivate an active environment, use\n",
      "#\n",
      "#     $ conda deactivate\n",
      "\n"
     ]
    }
   ],
   "source": [
    "!conda create -n houseprice python=3.10 -y\n",
    "\n"
   ]
  },
  {
   "cell_type": "code",
   "execution_count": 8,
   "id": "a94fbe46-7327-46b1-a58d-04f3beab4bd0",
   "metadata": {},
   "outputs": [
    {
     "name": "stdout",
     "output_type": "stream",
     "text": [
      "^C\n"
     ]
    }
   ],
   "source": [
    "!conda install jupyter\n",
    "\n"
   ]
  },
  {
   "cell_type": "code",
   "execution_count": 86,
   "id": "8dc6538b-75a5-4331-81ee-d374aa7e5065",
   "metadata": {},
   "outputs": [],
   "source": [
    "import pandas as pd\n",
    "import numpy as np\n",
    "import torch\n",
    "import pickle\n",
    "from torch import nn\n",
    "from sklearn.model_selection import train_test_split\n",
    "from sklearn.preprocessing import StandardScaler\n",
    "import matplotlib.pyplot as plt\n"
   ]
  },
  {
   "cell_type": "code",
   "execution_count": 22,
   "id": "ddcc7ec1-1d69-49fa-8d70-281b6bac3e4d",
   "metadata": {},
   "outputs": [
    {
     "data": {
      "text/html": [
       "<div>\n",
       "<style scoped>\n",
       "    .dataframe tbody tr th:only-of-type {\n",
       "        vertical-align: middle;\n",
       "    }\n",
       "\n",
       "    .dataframe tbody tr th {\n",
       "        vertical-align: top;\n",
       "    }\n",
       "\n",
       "    .dataframe thead th {\n",
       "        text-align: right;\n",
       "    }\n",
       "</style>\n",
       "<table border=\"1\" class=\"dataframe\">\n",
       "  <thead>\n",
       "    <tr style=\"text-align: right;\">\n",
       "      <th></th>\n",
       "      <th>Index</th>\n",
       "      <th>Title</th>\n",
       "      <th>Description</th>\n",
       "      <th>Amount(in rupees)</th>\n",
       "      <th>Price (in rupees)</th>\n",
       "      <th>location</th>\n",
       "      <th>Carpet Area</th>\n",
       "      <th>Status</th>\n",
       "      <th>Floor</th>\n",
       "      <th>Transaction</th>\n",
       "      <th>Furnishing</th>\n",
       "      <th>facing</th>\n",
       "      <th>overlooking</th>\n",
       "      <th>Society</th>\n",
       "      <th>Bathroom</th>\n",
       "      <th>Balcony</th>\n",
       "      <th>Car Parking</th>\n",
       "      <th>Ownership</th>\n",
       "      <th>Super Area</th>\n",
       "    </tr>\n",
       "  </thead>\n",
       "  <tbody>\n",
       "    <tr>\n",
       "      <th>0</th>\n",
       "      <td>0</td>\n",
       "      <td>1 BHK Ready to Occupy Flat for sale in Srushti...</td>\n",
       "      <td>Bhiwandi, Thane has an attractive 1 BHK Flat f...</td>\n",
       "      <td>42 Lac</td>\n",
       "      <td>6000.0</td>\n",
       "      <td>thane</td>\n",
       "      <td>500 sqft</td>\n",
       "      <td>Ready to Move</td>\n",
       "      <td>10 out of 11</td>\n",
       "      <td>Resale</td>\n",
       "      <td>Unfurnished</td>\n",
       "      <td>NaN</td>\n",
       "      <td>NaN</td>\n",
       "      <td>Srushti Siddhi Mangal Murti Complex</td>\n",
       "      <td>1</td>\n",
       "      <td>2</td>\n",
       "      <td>NaN</td>\n",
       "      <td>NaN</td>\n",
       "      <td>NaN</td>\n",
       "    </tr>\n",
       "    <tr>\n",
       "      <th>1</th>\n",
       "      <td>1</td>\n",
       "      <td>2 BHK Ready to Occupy Flat for sale in Dosti V...</td>\n",
       "      <td>One can find this stunning 2 BHK flat for sale...</td>\n",
       "      <td>98 Lac</td>\n",
       "      <td>13799.0</td>\n",
       "      <td>thane</td>\n",
       "      <td>473 sqft</td>\n",
       "      <td>Ready to Move</td>\n",
       "      <td>3 out of 22</td>\n",
       "      <td>Resale</td>\n",
       "      <td>Semi-Furnished</td>\n",
       "      <td>East</td>\n",
       "      <td>Garden/Park</td>\n",
       "      <td>Dosti Vihar</td>\n",
       "      <td>2</td>\n",
       "      <td>NaN</td>\n",
       "      <td>1 Open</td>\n",
       "      <td>Freehold</td>\n",
       "      <td>NaN</td>\n",
       "    </tr>\n",
       "    <tr>\n",
       "      <th>2</th>\n",
       "      <td>2</td>\n",
       "      <td>2 BHK Ready to Occupy Flat for sale in Sunrise...</td>\n",
       "      <td>Up for immediate sale is a 2 BHK apartment in ...</td>\n",
       "      <td>1.40 Cr</td>\n",
       "      <td>17500.0</td>\n",
       "      <td>thane</td>\n",
       "      <td>779 sqft</td>\n",
       "      <td>Ready to Move</td>\n",
       "      <td>10 out of 29</td>\n",
       "      <td>Resale</td>\n",
       "      <td>Unfurnished</td>\n",
       "      <td>East</td>\n",
       "      <td>Garden/Park</td>\n",
       "      <td>Sunrise by Kalpataru</td>\n",
       "      <td>2</td>\n",
       "      <td>NaN</td>\n",
       "      <td>1 Covered</td>\n",
       "      <td>Freehold</td>\n",
       "      <td>NaN</td>\n",
       "    </tr>\n",
       "    <tr>\n",
       "      <th>3</th>\n",
       "      <td>3</td>\n",
       "      <td>1 BHK Ready to Occupy Flat for sale Kasheli</td>\n",
       "      <td>This beautiful 1 BHK Flat is available for sal...</td>\n",
       "      <td>25 Lac</td>\n",
       "      <td>NaN</td>\n",
       "      <td>thane</td>\n",
       "      <td>530 sqft</td>\n",
       "      <td>Ready to Move</td>\n",
       "      <td>1 out of 3</td>\n",
       "      <td>Resale</td>\n",
       "      <td>Unfurnished</td>\n",
       "      <td>NaN</td>\n",
       "      <td>NaN</td>\n",
       "      <td>NaN</td>\n",
       "      <td>1</td>\n",
       "      <td>1</td>\n",
       "      <td>NaN</td>\n",
       "      <td>NaN</td>\n",
       "      <td>NaN</td>\n",
       "    </tr>\n",
       "    <tr>\n",
       "      <th>4</th>\n",
       "      <td>4</td>\n",
       "      <td>2 BHK Ready to Occupy Flat for sale in TenX Ha...</td>\n",
       "      <td>This lovely 2 BHK Flat in Pokhran Road, Thane ...</td>\n",
       "      <td>1.60 Cr</td>\n",
       "      <td>18824.0</td>\n",
       "      <td>thane</td>\n",
       "      <td>635 sqft</td>\n",
       "      <td>Ready to Move</td>\n",
       "      <td>20 out of 42</td>\n",
       "      <td>Resale</td>\n",
       "      <td>Unfurnished</td>\n",
       "      <td>West</td>\n",
       "      <td>Garden/Park, Main Road</td>\n",
       "      <td>TenX Habitat Raymond Realty</td>\n",
       "      <td>2</td>\n",
       "      <td>NaN</td>\n",
       "      <td>1 Covered</td>\n",
       "      <td>Co-operative Society</td>\n",
       "      <td>NaN</td>\n",
       "    </tr>\n",
       "  </tbody>\n",
       "</table>\n",
       "</div>"
      ],
      "text/plain": [
       "   Index                                              Title  \\\n",
       "0      0  1 BHK Ready to Occupy Flat for sale in Srushti...   \n",
       "1      1  2 BHK Ready to Occupy Flat for sale in Dosti V...   \n",
       "2      2  2 BHK Ready to Occupy Flat for sale in Sunrise...   \n",
       "3      3        1 BHK Ready to Occupy Flat for sale Kasheli   \n",
       "4      4  2 BHK Ready to Occupy Flat for sale in TenX Ha...   \n",
       "\n",
       "                                         Description Amount(in rupees)  \\\n",
       "0  Bhiwandi, Thane has an attractive 1 BHK Flat f...           42 Lac    \n",
       "1  One can find this stunning 2 BHK flat for sale...           98 Lac    \n",
       "2  Up for immediate sale is a 2 BHK apartment in ...          1.40 Cr    \n",
       "3  This beautiful 1 BHK Flat is available for sal...           25 Lac    \n",
       "4  This lovely 2 BHK Flat in Pokhran Road, Thane ...          1.60 Cr    \n",
       "\n",
       "   Price (in rupees) location Carpet Area         Status         Floor  \\\n",
       "0             6000.0    thane    500 sqft  Ready to Move  10 out of 11   \n",
       "1            13799.0    thane    473 sqft  Ready to Move   3 out of 22   \n",
       "2            17500.0    thane    779 sqft  Ready to Move  10 out of 29   \n",
       "3                NaN    thane    530 sqft  Ready to Move    1 out of 3   \n",
       "4            18824.0    thane    635 sqft  Ready to Move  20 out of 42   \n",
       "\n",
       "  Transaction      Furnishing facing             overlooking  \\\n",
       "0      Resale     Unfurnished    NaN                     NaN   \n",
       "1      Resale  Semi-Furnished   East             Garden/Park   \n",
       "2      Resale     Unfurnished   East             Garden/Park   \n",
       "3      Resale     Unfurnished    NaN                     NaN   \n",
       "4      Resale     Unfurnished   West  Garden/Park, Main Road   \n",
       "\n",
       "                               Society Bathroom Balcony Car Parking  \\\n",
       "0  Srushti Siddhi Mangal Murti Complex        1       2         NaN   \n",
       "1                          Dosti Vihar        2     NaN      1 Open   \n",
       "2                 Sunrise by Kalpataru        2     NaN   1 Covered   \n",
       "3                                  NaN        1       1         NaN   \n",
       "4          TenX Habitat Raymond Realty        2     NaN   1 Covered   \n",
       "\n",
       "              Ownership Super Area  \n",
       "0                   NaN        NaN  \n",
       "1              Freehold        NaN  \n",
       "2              Freehold        NaN  \n",
       "3                   NaN        NaN  \n",
       "4  Co-operative Society        NaN  "
      ]
     },
     "execution_count": 22,
     "metadata": {},
     "output_type": "execute_result"
    }
   ],
   "source": [
    "df = pd.read_csv(\"house_prices.csv\")\n",
    "df.head()"
   ]
  },
  {
   "cell_type": "code",
   "execution_count": 76,
   "id": "0e687177-3df7-480d-8983-618790774747",
   "metadata": {},
   "outputs": [],
   "source": [
    "df = pd.get_dummies(\"house_prices.csv\")"
   ]
  },
  {
   "cell_type": "code",
   "execution_count": 72,
   "id": "ddbd0176-22f7-44b3-a886-e8c4175c221c",
   "metadata": {},
   "outputs": [
    {
     "data": {
      "text/plain": [
       "Index(['Index', 'Price (in rupees)'], dtype='object')"
      ]
     },
     "execution_count": 72,
     "metadata": {},
     "output_type": "execute_result"
    }
   ],
   "source": [
    "df.columns"
   ]
  },
  {
   "cell_type": "code",
   "execution_count": 44,
   "id": "7b8723a9-8ed5-4e98-8d9b-1e04a4dc81cc",
   "metadata": {},
   "outputs": [],
   "source": [
    "# Drop rows with missing values (for simplicity)\n",
    "df = df.select_dtypes(include=[np.number]).dropna()\n",
    "\n",
    "# Features and target\n",
    "X = df.drop(['Price (in rupees)'], axis=1)\n",
    "y = df['Price (in rupees)']\n"
   ]
  },
  {
   "cell_type": "code",
   "execution_count": 50,
   "id": "3b581473-a3a5-4263-9dc2-6664aaf8efff",
   "metadata": {},
   "outputs": [
    {
     "data": {
      "text/html": [
       "<div>\n",
       "<style scoped>\n",
       "    .dataframe tbody tr th:only-of-type {\n",
       "        vertical-align: middle;\n",
       "    }\n",
       "\n",
       "    .dataframe tbody tr th {\n",
       "        vertical-align: top;\n",
       "    }\n",
       "\n",
       "    .dataframe thead th {\n",
       "        text-align: right;\n",
       "    }\n",
       "</style>\n",
       "<table border=\"1\" class=\"dataframe\">\n",
       "  <thead>\n",
       "    <tr style=\"text-align: right;\">\n",
       "      <th></th>\n",
       "      <th>Index</th>\n",
       "    </tr>\n",
       "  </thead>\n",
       "  <tbody>\n",
       "    <tr>\n",
       "      <th>0</th>\n",
       "      <td>0</td>\n",
       "    </tr>\n",
       "    <tr>\n",
       "      <th>1</th>\n",
       "      <td>1</td>\n",
       "    </tr>\n",
       "    <tr>\n",
       "      <th>2</th>\n",
       "      <td>2</td>\n",
       "    </tr>\n",
       "    <tr>\n",
       "      <th>4</th>\n",
       "      <td>4</td>\n",
       "    </tr>\n",
       "    <tr>\n",
       "      <th>5</th>\n",
       "      <td>5</td>\n",
       "    </tr>\n",
       "    <tr>\n",
       "      <th>...</th>\n",
       "      <td>...</td>\n",
       "    </tr>\n",
       "    <tr>\n",
       "      <th>187526</th>\n",
       "      <td>187526</td>\n",
       "    </tr>\n",
       "    <tr>\n",
       "      <th>187527</th>\n",
       "      <td>187527</td>\n",
       "    </tr>\n",
       "    <tr>\n",
       "      <th>187528</th>\n",
       "      <td>187528</td>\n",
       "    </tr>\n",
       "    <tr>\n",
       "      <th>187529</th>\n",
       "      <td>187529</td>\n",
       "    </tr>\n",
       "    <tr>\n",
       "      <th>187530</th>\n",
       "      <td>187530</td>\n",
       "    </tr>\n",
       "  </tbody>\n",
       "</table>\n",
       "<p>169866 rows × 1 columns</p>\n",
       "</div>"
      ],
      "text/plain": [
       "         Index\n",
       "0            0\n",
       "1            1\n",
       "2            2\n",
       "4            4\n",
       "5            5\n",
       "...        ...\n",
       "187526  187526\n",
       "187527  187527\n",
       "187528  187528\n",
       "187529  187529\n",
       "187530  187530\n",
       "\n",
       "[169866 rows x 1 columns]"
      ]
     },
     "execution_count": 50,
     "metadata": {},
     "output_type": "execute_result"
    }
   ],
   "source": [
    "X"
   ]
  },
  {
   "cell_type": "code",
   "execution_count": 78,
   "id": "a3a1d355-ef6a-4168-848f-c3153be428c4",
   "metadata": {},
   "outputs": [],
   "source": [
    "# Split\n",
    "X_train, X_test, y_train, y_test = train_test_split(X, y, test_size=0.2, random_state=42)\n",
    "\n",
    "# Normalize\n",
    "scaler = StandardScaler()\n",
    "X_train = scaler.fit_transform(X_train)\n",
    "X_test = scaler.transform(X_test)\n",
    "\n",
    "# Convert to PyTorch tensors\n",
    "X_train_tensor = torch.tensor(X_train, dtype=torch.float32)\n",
    "y_train_tensor = torch.tensor(y_train.values, dtype=torch.float32).view(-1, 1)\n",
    "X_test_tensor = torch.tensor(X_test, dtype=torch.float32)\n",
    "y_test_tensor = torch.tensor(y_test.values, dtype=torch.float32).view(-1, 1)\n"
   ]
  },
  {
   "cell_type": "code",
   "execution_count": 88,
   "id": "db5e420b-7597-4eaf-992c-42c6b0f2ccfe",
   "metadata": {},
   "outputs": [],
   "source": [
    "# Save the scaler\n",
    "with open('scaler.pkl', 'wb') as f:\n",
    "    pickle.dump(scaler, f)\n"
   ]
  },
  {
   "cell_type": "code",
   "execution_count": 60,
   "id": "27497430-987a-4b6f-bd96-df063818aecd",
   "metadata": {},
   "outputs": [],
   "source": [
    "#Here the are 3 layers, the input, hidden and output layers\n",
    "model = nn.Sequential(\n",
    "    nn.Linear(X_train_tensor.shape[1], 64),\n",
    "    nn.ReLU(),\n",
    "    nn.Linear(64, 1)\n",
    ")\n"
   ]
  },
  {
   "cell_type": "code",
   "execution_count": 62,
   "id": "52145688-ebda-4175-996b-ca7b15ace547",
   "metadata": {},
   "outputs": [],
   "source": [
    "#Does actual value compare to predicted values?(MSE)\n",
    "loss_fn = nn.MSELoss()\n",
    "#The optimizer adjusts the model’s weights based on the loss\n",
    "optimizer = torch.optim.Adam(model.parameters(), lr=0.01)\n"
   ]
  },
  {
   "cell_type": "code",
   "execution_count": 63,
   "id": "5b28c5f9-0608-4167-ae6c-8ebab3393381",
   "metadata": {},
   "outputs": [
    {
     "name": "stdout",
     "output_type": "stream",
     "text": [
      "Epoch 10/100, Loss: 489426400.0000\n",
      "Epoch 20/100, Loss: 489380320.0000\n",
      "Epoch 30/100, Loss: 489314624.0000\n",
      "Epoch 40/100, Loss: 489222592.0000\n",
      "Epoch 50/100, Loss: 489098560.0000\n",
      "Epoch 60/100, Loss: 488938400.0000\n",
      "Epoch 70/100, Loss: 488739552.0000\n",
      "Epoch 80/100, Loss: 488500064.0000\n",
      "Epoch 90/100, Loss: 488219168.0000\n",
      "Epoch 100/100, Loss: 487896000.0000\n"
     ]
    }
   ],
   "source": [
    "#goes through the data hundred times to learn it better\n",
    "epochs = 100\n",
    "for epoch in range(epochs):\n",
    "    model.train()\n",
    "    y_pred = model(X_train_tensor)\n",
    "    #Compares the model's predictions (y_pred) to the actual house prices (y_train_tensor)\n",
    "    loss = loss_fn(y_pred, y_train_tensor)\n",
    "\n",
    "    optimizer.zero_grad()\n",
    "    #Compute how to fix the weights \n",
    "    loss.backward()\n",
    "    #Update the weights\n",
    "    optimizer.step()\n",
    "    #Every 10 epochs, print the progress.\n",
    "    if (epoch + 1) % 10 == 0:\n",
    "        print(f\"Epoch {epoch+1}/{epochs}, Loss: {loss.item():.4f}\")\n"
   ]
  },
  {
   "cell_type": "code",
   "execution_count": 66,
   "id": "72dfad06-f6e8-4bcc-aa9e-842ed3854db8",
   "metadata": {},
   "outputs": [
    {
     "name": "stdout",
     "output_type": "stream",
     "text": [
      "Test Loss: 2038574720.0000\n"
     ]
    }
   ],
   "source": [
    "model.eval()\n",
    "with torch.no_grad():\n",
    "    test_preds = model(X_test_tensor)\n",
    "    test_loss = loss_fn(test_preds, y_test_tensor)\n",
    "    print(f\"Test Loss: {test_loss.item():.4f}\")\n"
   ]
  },
  {
   "cell_type": "code",
   "execution_count": 68,
   "id": "62b8d78a-fc02-4069-a412-63bf18a6019f",
   "metadata": {},
   "outputs": [
    {
     "name": "stdout",
     "output_type": "stream",
     "text": [
      "Test Loss: 2038574720.0000\n"
     ]
    }
   ],
   "source": [
    "model.eval()\n",
    "with torch.no_grad():\n",
    "    test_preds = model(X_test_tensor)\n",
    "    test_loss = loss_fn(test_preds, y_test_tensor)\n",
    "    print(f\"Test Loss: {test_loss.item():.4f}\")\n"
   ]
  },
  {
   "cell_type": "code",
   "execution_count": 70,
   "id": "c7cf4cfa-514f-4a49-aeaf-a55272a04cef",
   "metadata": {},
   "outputs": [
    {
     "data": {
      "image/png": "[encoded data removed]",
      "text/plain": [
       "<Figure size 640x480 with 1 Axes>"
      ]
     },
     "metadata": {},
     "output_type": "display_data"
    }
   ],
   "source": [
    "plt.scatter(y_test_tensor.numpy(), test_preds.numpy(), alpha=0.5)\n",
    "plt.xlabel(\"Actual Price\")\n",
    "plt.ylabel(\"Predicted Price\")\n",
    "plt.title(\"Actual vs Predicted House Prices\")\n",
    "plt.show()\n"
   ]
  },
  {
   "cell_type": "code",
   "execution_count": null,
   "id": "4ea6296b-5121-42aa-ba60-95cf05030e6a",
   "metadata": {},
   "outputs": [],
   "source": []
  },
  {
   "cell_type": "code",
   "execution_count": 90,
   "id": "6304c54f-9724-4ef6-a418-dc31c7cb2077",
   "metadata": {},
   "outputs": [],
   "source": [
    "torch.save(model.state_dict(), \"model.pth\")\n"
   ]
  },
  {
   "cell_type": "code",
   "execution_count": null,
   "id": "02cd95ba-ec5a-4f7c-b56d-6b0e8753b20f",
   "metadata": {},
   "outputs": [],
   "source": []
  }
 ],
 "metadata": {
  "kernelspec": {
   "display_name": "Python 3 (ipykernel)",
   "language": "python",
   "name": "python3"
  },
  "language_info": {
   "codemirror_mode": {
    "name": "ipython",
    "version": 3
   },
   "file_extension": ".py",
   "mimetype": "text/x-python",
   "name": "python",
   "nbconvert_exporter": "python",
   "pygments_lexer": "ipython3",
   "version": "3.12.7"
  }
 },
 "nbformat": 4,
 "nbformat_minor": 5
}
